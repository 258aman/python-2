{
 "cells": [
  {
   "cell_type": "code",
   "execution_count": 1,
   "metadata": {},
   "outputs": [
    {
     "name": "stdout",
     "output_type": "stream",
     "text": [
      "1\n",
      "2\n",
      "3\n",
      "4\n",
      "5\n",
      "6\n",
      "7\n",
      "8\n",
      "9\n"
     ]
    }
   ],
   "source": [
    "# 1\n",
    "for i in range(1,10):\n",
    "    print(i)"
   ]
  },
  {
   "cell_type": "code",
   "execution_count": 7,
   "metadata": {},
   "outputs": [
    {
     "name": "stdout",
     "output_type": "stream",
     "text": [
      "The multiplication number table of 45\n",
      "45 x = 45\n",
      "45 x = 90\n",
      "45 x = 135\n",
      "45 x = 180\n",
      "45 x = 225\n",
      "45 x = 270\n",
      "45 x = 315\n",
      "45 x = 360\n",
      "45 x = 405\n",
      "45 x = 450\n"
     ]
    }
   ],
   "source": [
    "# 2\n",
    "number=int(input('enter the multiplication'))\n",
    "count=1\n",
    "print('The multiplication number table of',number)\n",
    "while count<=10: \n",
    "    number=number*1\n",
    "    print(number,'x','=',number*count)\n",
    "    count+=1\n"
   ]
  },
  {
   "cell_type": "code",
   "execution_count": 19,
   "metadata": {},
   "outputs": [
    {
     "name": "stdout",
     "output_type": "stream",
     "text": [
      "sum of even number is 2450\n"
     ]
    }
   ],
   "source": [
    "# 3\n",
    "start= int(input('enter the start value'))\n",
    "end = int(input('enter the start value'))\n",
    "num=0\n",
    "for i in range(start,end):\n",
    "    if i%2==0:\n",
    "        num=num+i\n",
    "print('sum of even number is', num)\n"
   ]
  },
  {
   "cell_type": "code",
   "execution_count": 3,
   "metadata": {},
   "outputs": [
    {
     "name": "stdout",
     "output_type": "stream",
     "text": [
      "not a prime number\n"
     ]
    }
   ],
   "source": [
    "# 4\n",
    "num=14\n",
    "f=0\n",
    "i=2\n",
    "while i<=num/2:\n",
    "    if num%i==0:\n",
    "        f=1\n",
    "        break\n",
    "    i=i+1\n",
    "\n",
    "if f==0:\n",
    "    print('prime number')\n",
    "else:\n",
    "    print('not a prime number')"
   ]
  },
  {
   "cell_type": "code",
   "execution_count": null,
   "metadata": {},
   "outputs": [],
   "source": [
    "# 5\n",
    "\n"
   ]
  }
 ],
 "metadata": {
  "kernelspec": {
   "display_name": "base",
   "language": "python",
   "name": "python3"
  },
  "language_info": {
   "codemirror_mode": {
    "name": "ipython",
    "version": 3
   },
   "file_extension": ".py",
   "mimetype": "text/x-python",
   "name": "python",
   "nbconvert_exporter": "python",
   "pygments_lexer": "ipython3",
   "version": "3.10.10"
  },
  "orig_nbformat": 4
 },
 "nbformat": 4,
 "nbformat_minor": 2
}
