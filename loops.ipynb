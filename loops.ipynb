{
 "cells": [
  {
   "cell_type": "code",
   "execution_count": 1,
   "metadata": {},
   "outputs": [
    {
     "data": {
      "text/plain": [
       "range(0, 10)"
      ]
     },
     "execution_count": 1,
     "metadata": {},
     "output_type": "execute_result"
    }
   ],
   "source": [
    "range(10)"
   ]
  },
  {
   "cell_type": "code",
   "execution_count": 2,
   "metadata": {},
   "outputs": [
    {
     "name": "stdout",
     "output_type": "stream",
     "text": [
      "0 1 2 3 4 5 6 7 8 9 "
     ]
    }
   ],
   "source": [
    "for i in range(10):\n",
    "    print(i, end=\" \")"
   ]
  },
  {
   "cell_type": "code",
   "execution_count": 3,
   "metadata": {},
   "outputs": [
    {
     "name": "stdout",
     "output_type": "stream",
     "text": [
      "5 6 7 8 9 "
     ]
    }
   ],
   "source": [
    "for i in range(5,10):\n",
    "    print(i, end=\" \")"
   ]
  },
  {
   "cell_type": "code",
   "execution_count": 5,
   "metadata": {},
   "outputs": [
    {
     "name": "stdout",
     "output_type": "stream",
     "text": [
      "5 9 13 17 21 25 29 33 37 41 45 49 53 57 61 65 69 73 77 81 85 89 93 97 "
     ]
    }
   ],
   "source": [
    "for i in range(5,100,4):\n",
    "    print(i, end=\" \")"
   ]
  },
  {
   "cell_type": "code",
   "execution_count": 6,
   "metadata": {},
   "outputs": [
    {
     "name": "stdout",
     "output_type": "stream",
     "text": [
      "10 9 8 7 6 5 4 3 2 1 0 -1 -2 -3 -4 -5 -6 -7 -8 -9 -10 "
     ]
    }
   ],
   "source": [
    "for i in range(10,-11,-1):\n",
    "    print(i, end=\" \")"
   ]
  },
  {
   "cell_type": "code",
   "execution_count": 7,
   "metadata": {},
   "outputs": [
    {
     "name": "stdout",
     "output_type": "stream",
     "text": [
      "10 9 8 7 6 5 4 3 2 1 "
     ]
    }
   ],
   "source": [
    "for i in range(10,0,-1):\n",
    "    print(i, end=\" \")"
   ]
  },
  {
   "cell_type": "code",
   "execution_count": 9,
   "metadata": {},
   "outputs": [
    {
     "name": "stdout",
     "output_type": "stream",
     "text": [
      "12 41 14 47 78 85 "
     ]
    }
   ],
   "source": [
    "num=[12,41,14,47,78,85]\n",
    "# tranversal of list\n",
    "for data in num:\n",
    "    print(data, end=' ')"
   ]
  },
  {
   "cell_type": "code",
   "execution_count": 10,
   "metadata": {},
   "outputs": [
    {
     "name": "stdout",
     "output_type": "stream",
     "text": [
      "12\n",
      "74\n",
      "85\n",
      "78\n",
      "96\n",
      "88\n",
      "74\n"
     ]
    }
   ],
   "source": [
    "prices=[12,None,74,85,None,78,None,96,88,74]\n",
    "for rate in prices:\n",
    "    if rate is None:\n",
    "        continue\n",
    "    print(rate)"
   ]
  },
  {
   "cell_type": "code",
   "execution_count": 13,
   "metadata": {},
   "outputs": [
    {
     "name": "stdout",
     "output_type": "stream",
     "text": [
      "12\n",
      "the end\n"
     ]
    }
   ],
   "source": [
    "for rate in prices:\n",
    "    if rate is None:\n",
    "        break\n",
    "    print(rate)\n",
    "print('the end')"
   ]
  },
  {
   "cell_type": "code",
   "execution_count": 16,
   "metadata": {},
   "outputs": [
    {
     "name": "stdout",
     "output_type": "stream",
     "text": [
      "1\n",
      "2 3 4 \n",
      "2\n",
      "3 4 5 \n",
      "3\n",
      "4 5 6 \n",
      "4\n",
      "5 6 7 \n",
      "5\n",
      "6 7 8 \n"
     ]
    }
   ],
   "source": [
    "for i in range(1,6):\n",
    "    print(i)\n",
    "    for j in range(1,4):\n",
    "        print(i+j, end=' ')\n",
    "    print()"
   ]
  },
  {
   "cell_type": "markdown",
   "metadata": {},
   "source": [
    " * enmerater\n",
    " * zip\n",
    " * for -else\n",
    " "
   ]
  },
  {
   "cell_type": "code",
   "execution_count": 1,
   "metadata": {},
   "outputs": [
    {
     "name": "stdout",
     "output_type": "stream",
     "text": [
      "(0, 'Radha')\n",
      "(1, 'Rohan')\n",
      "(2, 'Madhu')\n",
      "(3, 'Siddhant')\n"
     ]
    }
   ],
   "source": [
    "names = ['Radha','Rohan', 'Madhu', 'Siddhant']\n",
    "for name in enumerate(names):\n",
    "    print(name)"
   ]
  },
  {
   "cell_type": "code",
   "execution_count": 2,
   "metadata": {},
   "outputs": [
    {
     "name": "stdout",
     "output_type": "stream",
     "text": [
      "0 Radha\n",
      "1 Rohan\n",
      "2 Madhu\n",
      "3 Siddhant\n"
     ]
    }
   ],
   "source": [
    "for idx, name in enumerate(names):\n",
    "    print(idx, name)"
   ]
  },
  {
   "cell_type": "code",
   "execution_count": 4,
   "metadata": {},
   "outputs": [
    {
     "name": "stdout",
     "output_type": "stream",
     "text": [
      "1\n",
      "25\n",
      "6\n",
      "8\n",
      "6\n",
      "8\n",
      "6\n",
      "9\n",
      "59\n",
      "875\n"
     ]
    }
   ],
   "source": [
    "n = [1,25,6,8,6,8,6,9,59,875,69,5,85,5,8,5,9,52,6,58,9,5]\n",
    "for i, v in enumerate(n):\n",
    "    if i ==10:\n",
    "        break\n",
    "    print(v)"
   ]
  },
  {
   "cell_type": "code",
   "execution_count": 6,
   "metadata": {},
   "outputs": [
    {
     "name": "stdout",
     "output_type": "stream",
     "text": [
      "(1, 7, 2)\n",
      "(2, 8, 3)\n",
      "(3, 8, 4)\n",
      "(4, 9, 5)\n"
     ]
    }
   ],
   "source": [
    "x=[1,2,3,4]\n",
    "y=[7,8,8,9]\n",
    "z=[2,3,4,5]\n",
    "for i in zip(x,y,z):\n",
    "    print(i)"
   ]
  },
  {
   "cell_type": "code",
   "execution_count": 7,
   "metadata": {},
   "outputs": [
    {
     "name": "stdout",
     "output_type": "stream",
     "text": [
      "14\n",
      "48\n",
      "96\n",
      "180\n"
     ]
    }
   ],
   "source": [
    "for i,j,k in zip(x,y,z):\n",
    "    print(i*j*k)"
   ]
  },
  {
   "cell_type": "code",
   "execution_count": null,
   "metadata": {},
   "outputs": [],
   "source": [
    "# for -else\n",
    "# if all the iteration of the loop aree completed without any break statement, then  the else part is executed else part is not executed if the loop is terminated by a break statement.\n",
    "\n"
   ]
  },
  {
   "cell_type": "code",
   "execution_count": 8,
   "metadata": {},
   "outputs": [
    {
     "name": "stdout",
     "output_type": "stream",
     "text": [
      "1\n",
      "2\n",
      "3\n",
      "4\n",
      "completed without break\n"
     ]
    }
   ],
   "source": [
    "for i in x:\n",
    "    if i ==13:\n",
    "        break\n",
    "    print(i)\n",
    "else:\n",
    "    print('completed without break')"
   ]
  },
  {
   "cell_type": "code",
   "execution_count": 11,
   "metadata": {},
   "outputs": [
    {
     "name": "stdout",
     "output_type": "stream",
     "text": [
      "4556 % 2 = 0\n",
      "not prime\n"
     ]
    }
   ],
   "source": [
    "# prime number\n",
    "num=4556\n",
    "for i in range(2, num):\n",
    "    print(f'{num} % {i} = {num%i}')\n",
    "    if num%i ==0:\n",
    "        print('not prime')\n",
    "        break\n",
    "else:\n",
    "    print('prime')"
   ]
  },
  {
   "cell_type": "code",
   "execution_count": null,
   "metadata": {},
   "outputs": [],
   "source": []
  }
 ],
 "metadata": {
  "kernelspec": {
   "display_name": "base",
   "language": "python",
   "name": "python3"
  },
  "language_info": {
   "codemirror_mode": {
    "name": "ipython",
    "version": 3
   },
   "file_extension": ".py",
   "mimetype": "text/x-python",
   "name": "python",
   "nbconvert_exporter": "python",
   "pygments_lexer": "ipython3",
   "version": "3.10.9"
  },
  "orig_nbformat": 4
 },
 "nbformat": 4,
 "nbformat_minor": 2
}
