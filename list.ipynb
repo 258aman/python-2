{
 "cells": [
  {
   "cell_type": "markdown",
   "metadata": {},
   "source": [
    "# list\n",
    "- indexed, oredered, mutable, can be have duplicates symbol [], list()\n",
    "\n",
    "# tuple\n",
    "- indexed, unordered, mutable, cannot have duplicates, '{}', 'set()'\n",
    "\n",
    "# set\n",
    "-unindexed, unordered, mutable, *cannot have duplictes*, '{}','set()'\n",
    "\n",
    "# dictionary\n",
    "-unindexed, ordered, mutable, *key:value pairs*, *immutable key*, {'key':'value'},'dict()'\n",
    "\n"
   ]
  },
  {
   "cell_type": "code",
   "execution_count": null,
   "metadata": {},
   "outputs": [],
   "source": [
    "# creating list\n",
    "x=[] # empty list\n",
    "a = [1,2,3,4,5,6] # numeric list\n",
    "colors = ['red', 'green', 'blue'] # string list\n",
    "mixed = [1,2,3,'red','green',False, True, None,[1,2,3]] #mixed list\n",
    "nested_list = [[1,2,3],[4,5,6]] #nested list"
   ]
  },
  {
   "cell_type": "code",
   "execution_count": null,
   "metadata": {},
   "outputs": [],
   "source": [
    "name = 'Alexander'\n",
    "charlist = list(name)\n",
    "print(charlist)"
   ]
  },
  {
   "cell_type": "code",
   "execution_count": null,
   "metadata": {},
   "outputs": [],
   "source": [
    "colors *3"
   ]
  },
  {
   "cell_type": "code",
   "execution_count": null,
   "metadata": {},
   "outputs": [],
   "source": [
    "a + colors # list concat"
   ]
  },
  {
   "cell_type": "code",
   "execution_count": null,
   "metadata": {},
   "outputs": [],
   "source": [
    "colors = ['red', 'green', 'blue', 'yellow', 'black', 'pink', 'orange','white','grey','brown']\n",
    "len(colors)"
   ]
  },
  {
   "cell_type": "code",
   "execution_count": null,
   "metadata": {},
   "outputs": [],
   "source": [
    "print(colors[0])\n",
    "print(colors[-1])\n",
    "print(colors[5])\n",
    "colors[0] = 'Red' # mutability\n",
    "print(colors[0])"
   ]
  },
  {
   "cell_type": "code",
   "execution_count": null,
   "metadata": {},
   "outputs": [],
   "source": [
    "print(colors[:5])\n",
    "print(colors[-3:])\n",
    "print(colors[::-1])"
   ]
  },
  {
   "cell_type": "markdown",
   "metadata": {},
   "source": [
    "# Total 11 methods in a list\n",
    "- to add\n",
    "    1. append()\n",
    "    2. extend()\n",
    "    3. insert()\n",
    "- to remove\n",
    "    1. remove()\n",
    "    2. pop()\n",
    "    3. clear()\n",
    "- for utility\n",
    "    1. reverse()\n",
    "    2. sort()\n",
    "    3. copy()\n",
    "    4. count()\n",
    "    5. index()\n",
    " "
   ]
  },
  {
   "cell_type": "code",
   "execution_count": null,
   "metadata": {},
   "outputs": [],
   "source": [
    "tvshows = [] # empty list\n",
    "tvshows.append('Chota Bheem')\n",
    "tvshows.append('Ben 10')\n",
    "tvshows.append('Doraemon')\n"
   ]
  },
  {
   "cell_type": "code",
   "execution_count": null,
   "metadata": {},
   "outputs": [],
   "source": [
    "show = input('enter a show name:')\n",
    "tvshows.append(show)"
   ]
  },
  {
   "cell_type": "code",
   "execution_count": null,
   "metadata": {},
   "outputs": [],
   "source": [
    "print(tvshows)"
   ]
  },
  {
   "cell_type": "code",
   "execution_count": null,
   "metadata": {},
   "outputs": [],
   "source": [
    "tvshows.insert(1,'The office')\n",
    "tvshows.insert(4, 'Friends')\n",
    "print(tvshows)"
   ]
  },
  {
   "cell_type": "code",
   "execution_count": null,
   "metadata": {},
   "outputs": [],
   "source": [
    "user_shows = input('enter your shows separated by commas: ')\n",
    "user_shows = user_shows.split(',')"
   ]
  },
  {
   "cell_type": "code",
   "execution_count": null,
   "metadata": {},
   "outputs": [],
   "source": [
    "tvshows.extend(user_shows)\n",
    "print(tvshows)"
   ]
  },
  {
   "cell_type": "code",
   "execution_count": 21,
   "metadata": {},
   "outputs": [
    {
     "name": "stdout",
     "output_type": "stream",
     "text": [
      "['Chota Bheem', 'The office', 'Ben 10', 'Friends', 'Ben 10', 'jai shree', 'ramayan', 'hanuman']\n"
     ]
    }
   ],
   "source": [
    "if 'Doraemon' in tvshows:\n",
    "    tvshows.remove('Doraemon') # Remove an item from the list\n",
    "print(tvshows)"
   ]
  },
  {
   "cell_type": "code",
   "execution_count": 22,
   "metadata": {},
   "outputs": [
    {
     "name": "stdout",
     "output_type": "stream",
     "text": [
      "Ben 10\n"
     ]
    }
   ],
   "source": [
    "poped_value = tvshows.pop(2)\n",
    "print(poped_value)"
   ]
  },
  {
   "cell_type": "code",
   "execution_count": 24,
   "metadata": {},
   "outputs": [
    {
     "data": {
      "text/plain": [
       "'ramayan'"
      ]
     },
     "execution_count": 24,
     "metadata": {},
     "output_type": "execute_result"
    }
   ],
   "source": [
    "tvshows.pop() # pop() removes the last element from the list"
   ]
  },
  {
   "cell_type": "code",
   "execution_count": 27,
   "metadata": {},
   "outputs": [
    {
     "name": "stdout",
     "output_type": "stream",
     "text": [
      "['Chota Bheem', 'The office', 'Friends', 'Ben 10', 'jai shree']\n"
     ]
    }
   ],
   "source": [
    "print(tvshows)"
   ]
  },
  {
   "cell_type": "code",
   "execution_count": 28,
   "metadata": {},
   "outputs": [
    {
     "name": "stdout",
     "output_type": "stream",
     "text": [
      "[6, 5, 7, 6, 7, 6, 1, 6, 4, 9, 8, 7, 6, 45, 3, 2, 1]\n"
     ]
    }
   ],
   "source": [
    "x=[1,2,3,45,6,7,8,9,4,6,1,6,7,6,7,5,6]\n",
    "x.reverse()\n",
    "print(x)"
   ]
  },
  {
   "cell_type": "code",
   "execution_count": 29,
   "metadata": {},
   "outputs": [
    {
     "name": "stdout",
     "output_type": "stream",
     "text": [
      "[1, 1, 2, 3, 4, 5, 6, 6, 6, 6, 6, 7, 7, 7, 8, 9, 45]\n"
     ]
    }
   ],
   "source": [
    "x.sort() # ascending order\n",
    "print(x)"
   ]
  },
  {
   "cell_type": "code",
   "execution_count": 30,
   "metadata": {},
   "outputs": [
    {
     "name": "stdout",
     "output_type": "stream",
     "text": [
      "[45, 9, 8, 7, 7, 7, 6, 6, 6, 6, 6, 5, 4, 3, 2, 1, 1]\n"
     ]
    }
   ],
   "source": [
    "x.sort(reverse=True) # reverse=True : descending order\n",
    "print(x)"
   ]
  },
  {
   "cell_type": "code",
   "execution_count": 33,
   "metadata": {},
   "outputs": [
    {
     "data": {
      "text/plain": [
       "5"
      ]
     },
     "execution_count": 33,
     "metadata": {},
     "output_type": "execute_result"
    }
   ],
   "source": [
    "x.count(6) # how many times 6 appears in the list"
   ]
  },
  {
   "cell_type": "code",
   "execution_count": 34,
   "metadata": {},
   "outputs": [
    {
     "data": {
      "text/plain": [
       "3"
      ]
     },
     "execution_count": 34,
     "metadata": {},
     "output_type": "execute_result"
    }
   ],
   "source": [
    "x.index(7) # on which index is 7 value"
   ]
  },
  {
   "cell_type": "code",
   "execution_count": 35,
   "metadata": {},
   "outputs": [
    {
     "name": "stdout",
     "output_type": "stream",
     "text": [
      "[1, 2, 3, 4, 1, 1, 1, 1, 5, 4]\n"
     ]
    }
   ],
   "source": [
    "y=[1,2,3,4,1,1,1,1,5,4]\n",
    "print(y)"
   ]
  },
  {
   "cell_type": "code",
   "execution_count": 37,
   "metadata": {},
   "outputs": [
    {
     "name": "stdout",
     "output_type": "stream",
     "text": [
      "15\n",
      "16\n"
     ]
    }
   ],
   "source": [
    "start=0\n",
    "for i in range(x.count(1)):\n",
    "    pos = x.index(1, start)\n",
    "    start = pos + 1\n",
    "    print(pos)"
   ]
  },
  {
   "cell_type": "code",
   "execution_count": null,
   "metadata": {},
   "outputs": [],
   "source": []
  }
 ],
 "metadata": {
  "kernelspec": {
   "display_name": "Python 3",
   "language": "python",
   "name": "python3"
  },
  "language_info": {
   "codemirror_mode": {
    "name": "ipython",
    "version": 3
   },
   "file_extension": ".py",
   "mimetype": "text/x-python",
   "name": "python",
   "nbconvert_exporter": "python",
   "pygments_lexer": "ipython3",
   "version": "3.10.9"
  },
  "orig_nbformat": 4
 },
 "nbformat": 4,
 "nbformat_minor": 2
}
