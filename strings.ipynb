{
 "cells": [
  {
   "cell_type": "code",
   "execution_count": null,
   "metadata": {},
   "outputs": [],
   "source": [
    "# strings\n",
    "# create \n",
    "# index and slice\n",
    "# methods"
   ]
  },
  {
   "cell_type": "code",
   "execution_count": 1,
   "metadata": {},
   "outputs": [
    {
     "name": "stdout",
     "output_type": "stream",
     "text": [
      "<class 'str'> <class 'str'> <class 'str'>\n",
      "<class 'str'>\n"
     ]
    }
   ],
   "source": [
    "a ='Apple'\n",
    "b = \"Banana\"\n",
    "c = '''This \n",
    "is a string of multiple lines'''\n",
    "print(type(a),type(b), type(c))\n",
    "d = str(123) # convert value to string\n",
    "print(type(d))"
   ]
  },
  {
   "cell_type": "code",
   "execution_count": 2,
   "metadata": {},
   "outputs": [
    {
     "data": {
      "text/plain": [
       "'AppleAppleAppleAppleApple'"
      ]
     },
     "execution_count": 2,
     "metadata": {},
     "output_type": "execute_result"
    }
   ],
   "source": [
    "a * 5 # string duplication"
   ]
  },
  {
   "cell_type": "code",
   "execution_count": 3,
   "metadata": {},
   "outputs": [
    {
     "data": {
      "text/plain": [
       "'AppleBanana'"
      ]
     },
     "execution_count": 3,
     "metadata": {},
     "output_type": "execute_result"
    }
   ],
   "source": [
    "a + b # string concetenation"
   ]
  },
  {
   "cell_type": "code",
   "execution_count": null,
   "metadata": {},
   "outputs": [],
   "source": [
    "a[0] = 'B' "
   ]
  },
  {
   "cell_type": "code",
   "execution_count": 6,
   "metadata": {},
   "outputs": [
    {
     "name": "stdout",
     "output_type": "stream",
     "text": [
      "vijay\n",
      "Deenanath\n",
      "Chauhan\n",
      "vijay\n",
      "Chauhan\n",
      "Chauhan\n"
     ]
    }
   ],
   "source": [
    "name = \"vijay Deenanath Chauhan\"\n",
    "print(name[0:5])\n",
    "print(name[6:15])\n",
    "print(name[16:len(name)])\n",
    "# When starting index is not given, it is assumed to be 0\n",
    "print(name[:5])\n",
    "# when ending index is not given, it is assumed to be len(num)\n",
    "print(name[16:])\n",
    "print(name[-7:])"
   ]
  },
  {
   "cell_type": "markdown",
   "metadata": {},
   "source": [
    "slice syntax\n",
    "\n",
    "var[(start):(stop):(step)]\n"
   ]
  },
  {
   "cell_type": "code",
   "execution_count": 7,
   "metadata": {},
   "outputs": [
    {
     "name": "stdout",
     "output_type": "stream",
     "text": [
      "vjyDeaahCahn\n",
      "ia ennt hua\n",
      "nahuahC htananeeD yajiv\n"
     ]
    }
   ],
   "source": [
    "print(name[::2])\n",
    "print(name[1::2])\n",
    "# reverse string\n",
    "print(name[::-1])\n"
   ]
  },
  {
   "cell_type": "code",
   "execution_count": null,
   "metadata": {},
   "outputs": [],
   "source": [
    "#  string method\n",
    "#       formatting methods\n",
    "# upper(),lower(), capitalize(), title(), swapcase()   \n",
    "#        Validation methods\n",
    "# isupper(), islower(), istitle(), isalpha(), isnumeric(),startswith(), endswith()\n",
    "#        Utlity mehtods\n",
    "# split(), join(), find(), replace(), strip() "
   ]
  },
  {
   "cell_type": "code",
   "execution_count": 9,
   "metadata": {},
   "outputs": [
    {
     "name": "stdout",
     "output_type": "stream",
     "text": [
      "MY NAME IS SIDDHANT SAHU\n",
      "my name is siddhant sahu\n",
      "My name is siddhant sahu\n",
      "mY NAME IS SIDDHANt sAHU\n",
      "my name is siddhant sahu\n",
      "My Name Is Siddhant Sahu\n"
     ]
    }
   ],
   "source": [
    "msg= 'My name is siddhanT Sahu'\n",
    "print(msg.upper())\n",
    "print(msg.lower())\n",
    "print(msg.capitalize())\n",
    "print(msg.swapcase())\n",
    "print(msg.casefold())\n",
    "print(msg.title())"
   ]
  },
  {
   "cell_type": "code",
   "execution_count": 10,
   "metadata": {},
   "outputs": [
    {
     "name": "stdout",
     "output_type": "stream",
     "text": [
      "My name is siddhanT Sahu\n"
     ]
    }
   ],
   "source": [
    "print(msg)"
   ]
  },
  {
   "cell_type": "code",
   "execution_count": 11,
   "metadata": {},
   "outputs": [
    {
     "data": {
      "text/plain": [
       "True"
      ]
     },
     "execution_count": 11,
     "metadata": {},
     "output_type": "execute_result"
    }
   ],
   "source": [
    "\"hello\".islower()"
   ]
  },
  {
   "cell_type": "code",
   "execution_count": 12,
   "metadata": {},
   "outputs": [
    {
     "data": {
      "text/plain": [
       "False"
      ]
     },
     "execution_count": 12,
     "metadata": {},
     "output_type": "execute_result"
    }
   ],
   "source": [
    "\"hello\".isupper()"
   ]
  },
  {
   "cell_type": "code",
   "execution_count": 16,
   "metadata": {},
   "outputs": [
    {
     "name": "stdout",
     "output_type": "stream",
     "text": [
      ">>> siddhant <<<\n",
      "you entered a string\n",
      "you entered a alphanumeric\n",
      "you entered a lowercase string\n"
     ]
    }
   ],
   "source": [
    "x=input('Enter a number:')\n",
    "print('>>>', x, '<<<')\n",
    "if x.isnumeric():\n",
    "    print('you entered a number')\n",
    "if x.isalpha():\n",
    "    print('you entered a string')\n",
    "if x.isalnum():\n",
    "    print('you entered a alphanumeric')\n",
    "if x.islower():\n",
    "    print('you entered a lowercase string')"
   ]
  },
  {
   "cell_type": "code",
   "execution_count": 17,
   "metadata": {},
   "outputs": [
    {
     "name": "stdout",
     "output_type": "stream",
     "text": [
      "True\n",
      "False\n"
     ]
    }
   ],
   "source": [
    "person = \"Mr. Smith\"\n",
    "print(person.startswith(\"Mr.\"))\n",
    "print(person.startswith(\"Ms.\"))"
   ]
  },
  {
   "cell_type": "code",
   "execution_count": 18,
   "metadata": {},
   "outputs": [
    {
     "name": "stdout",
     "output_type": "stream",
     "text": [
      "Blue\n",
      "Black\n",
      "Brown\n"
     ]
    }
   ],
   "source": [
    "colors = ['Red', 'Green', 'Blue', 'Black','Brown']\n",
    "for color in colors:\n",
    "    if color.startswith('B'):\n",
    "        print(color)"
   ]
  },
  {
   "cell_type": "code",
   "execution_count": 19,
   "metadata": {},
   "outputs": [
    {
     "name": "stdout",
     "output_type": "stream",
     "text": [
      "JPG found >> 1.jpg\n",
      "PNG found >> 2.png\n",
      "PNG found >> 3.png\n",
      "PNG found >> 4.png\n",
      "JPG found >> 5.jpg\n"
     ]
    }
   ],
   "source": [
    "images = ['1.jpg', '2.png', '3.png', '4.png','5.jpg']\n",
    "for img in images:\n",
    "    if img.endswith('.png'):\n",
    "        print(\"PNG found >>\", img)\n",
    "    if img.endswith('.jpg'):\n",
    "        print(\"JPG found >>\",img)"
   ]
  },
  {
   "cell_type": "code",
   "execution_count": 26,
   "metadata": {},
   "outputs": [
    {
     "name": "stdout",
     "output_type": "stream",
     "text": [
      " Life Before Beath, Strength Before Weakness, Journey Before Destination \n",
      "['Life', 'Before', 'Beath,', 'Strength', 'Before', 'Weakness,', 'Journey', 'Before', 'Destination']\n",
      "[' Life Before Beath', ' Strength Before Weakness', ' Journey Before Destination ']\n",
      "[' Life', 'Beath, Strength', 'Weakness, Journey', 'Destination ']\n"
     ]
    }
   ],
   "source": [
    "quote = ' Life Before Beath, Strength Before Weakness, Journey Before Destination '\n",
    "print(quote)\n",
    "print(quote.split())\n",
    "print(quote.split(\",\"))\n",
    "print(quote.split(\" Before \"))"
   ]
  },
  {
   "cell_type": "code",
   "execution_count": 25,
   "metadata": {},
   "outputs": [
    {
     "name": "stdout",
     "output_type": "stream",
     "text": [
      "['Life', 'Before', 'Beath,', 'Strength', 'Before', 'Weakness,', 'Journey', 'Before', 'Destination']\n",
      "9\n"
     ]
    }
   ],
   "source": [
    "words = quote.split()\n",
    "print(words)\n",
    "print(len(words))"
   ]
  },
  {
   "cell_type": "code",
   "execution_count": 1,
   "metadata": {},
   "outputs": [
    {
     "name": "stdout",
     "output_type": "stream",
     "text": [
      "alex alexa alexander siddhant\n",
      "alex, alexa, alexander, siddhant\n",
      "alex--- alexa--- alexander--- siddhant\n",
      "alex + alexa + alexander + siddhant\n",
      "alexaalexaaalexanderasiddhant\n"
     ]
    }
   ],
   "source": [
    "x=['alex', 'alexa', 'alexander','siddhant']\n",
    "print(\" \".join(x))\n",
    "print(\", \".join(x))\n",
    "print(\"--- \".join(x))\n",
    "print(\" + \".join(x))\n",
    "print(\"a\".join(x))"
   ]
  },
  {
   "cell_type": "code",
   "execution_count": 2,
   "metadata": {},
   "outputs": [],
   "source": [
    "story='once upon a time, there was a king, who left his kingdom to the queen, and she ruled over it'"
   ]
  },
  {
   "cell_type": "code",
   "execution_count": 3,
   "metadata": {},
   "outputs": [
    {
     "name": "stdout",
     "output_type": "stream",
     "text": [
      "0\n",
      "-1\n",
      "64\n",
      "-1\n",
      "49\n",
      "60\n"
     ]
    }
   ],
   "source": [
    "print(story.find('on'))\n",
    "print(story.find('kind'))\n",
    "print(story.find('queen'))\n",
    "print(story.find('prince'))\n",
    "print(story.find('king', 31)) # 31 is the starting index for searching\n",
    "print(story.rfind('the'))  # refind() searches from the right side"
   ]
  },
  {
   "cell_type": "code",
   "execution_count": 4,
   "metadata": {},
   "outputs": [
    {
     "name": "stdout",
     "output_type": "stream",
     "text": [
      "once upon a tome, there was a kong, who left hos kongdom to the queen, and she ruled over ot\n",
      "once upon a time, thisre was a king, who left his kingdom to this queen, and she ruled over it\n",
      "once upon a year, there is a king, who leaves his kingdom to the queen, and she ruled over it\n",
      "once upon  time, there ws  king, who left his kingdom to the queen, nd she ruled over it\n",
      "once upon a time, there was a  , who left his  dom to the queen, and she ruled over it\n"
     ]
    }
   ],
   "source": [
    "print(story.replace('i','o'))\n",
    "print(story.replace('the','this'))\n",
    "print(story.replace('time','year').replace('was','is').replace('left', 'leaves'))\n",
    "print(story.replace('a','')) # remove all a\n",
    "print(story.replace('king',' '))"
   ]
  },
  {
   "cell_type": "code",
   "execution_count": 5,
   "metadata": {},
   "outputs": [
    {
     "name": "stdout",
     "output_type": "stream",
     "text": [
      "once upon a time, there was a queen, who left his queendom to the queen, and she ruled over it\n"
     ]
    }
   ],
   "source": [
    "story = story.replace('king', 'queen')\n",
    "print(story)"
   ]
  },
  {
   "cell_type": "code",
   "execution_count": 6,
   "metadata": {},
   "outputs": [
    {
     "name": "stdout",
     "output_type": "stream",
     "text": [
      "hello 7 5\n"
     ]
    }
   ],
   "source": [
    "data = ' hello '\n",
    "cdata = data.strip()\n",
    "print(cdata, len(data), len(cdata))"
   ]
  },
  {
   "cell_type": "code",
   "execution_count": 7,
   "metadata": {},
   "outputs": [
    {
     "name": "stdout",
     "output_type": "stream",
     "text": [
      " \n",
      " Rs.  10000\n",
      "\n",
      "Rs.  10000\n"
     ]
    }
   ],
   "source": [
    "dusty =''' \n",
    " Rs.  10000\n",
    "'''\n",
    "print(dusty)\n",
    "print(dusty.strip())"
   ]
  },
  {
   "cell_type": "code",
   "execution_count": 9,
   "metadata": {},
   "outputs": [
    {
     "name": "stdout",
     "output_type": "stream",
     "text": [
      "1.jpg\n",
      "2\n",
      "3.jpg\n",
      "4\n"
     ]
    }
   ],
   "source": [
    "images = ['1.jpg','2.png', '3.jpg','4.png']\n",
    "for image in images:\n",
    "    image = image.removesuffix('.png').removeprefix('.jpg')\n",
    "    print(image)"
   ]
  },
  {
   "cell_type": "code",
   "execution_count": 10,
   "metadata": {},
   "outputs": [
    {
     "name": "stdout",
     "output_type": "stream",
     "text": [
      "3\n",
      "4\n",
      "0\n",
      "1\n"
     ]
    }
   ],
   "source": [
    "print(story.count(\"queen\"))\n",
    "print(story.count(\"a\"))\n",
    "print(story.count(\"this\"))\n",
    "print(story.count(\"is\"))"
   ]
  },
  {
   "cell_type": "code",
   "execution_count": 11,
   "metadata": {},
   "outputs": [
    {
     "data": {
      "text/plain": [
       "33"
      ]
     },
     "execution_count": 11,
     "metadata": {},
     "output_type": "execute_result"
    }
   ],
   "source": [
    "# total vowels in story\n",
    "story.count('a')+story.count('e')+story.count('i')+story.count('o')+story.count('u')"
   ]
  },
  {
   "cell_type": "code",
   "execution_count": 12,
   "metadata": {},
   "outputs": [
    {
     "name": "stdout",
     "output_type": "stream",
     "text": [
      "The Zen of Python, by Tim Peters\n",
      "\n",
      "Beautiful is better than ugly.\n",
      "Explicit is better than implicit.\n",
      "Simple is better than complex.\n",
      "Complex is better than complicated.\n",
      "Flat is better than nested.\n",
      "Sparse is better than dense.\n",
      "Readability counts.\n",
      "Special cases aren't special enough to break the rules.\n",
      "Although practicality beats purity.\n",
      "Errors should never pass silently.\n",
      "Unless explicitly silenced.\n",
      "In the face of ambiguity, refuse the temptation to guess.\n",
      "There should be one-- and preferably only one --obvious way to do it.\n",
      "Although that way may not be obvious at first unless you're Dutch.\n",
      "Now is better than never.\n",
      "Although never is often better than *right* now.\n",
      "If the implementation is hard to explain, it's a bad idea.\n",
      "If the implementation is easy to explain, it may be a good idea.\n",
      "Namespaces are one honking great idea -- let's do more of those!\n"
     ]
    }
   ],
   "source": [
    "import this"
   ]
  },
  {
   "cell_type": "code",
   "execution_count": 15,
   "metadata": {},
   "outputs": [],
   "source": [
    "content ='''The Zen of Python, by Tim Peters\n",
    "Beautiful is better than ugly.\n",
    "Explicit is better than implicit.\n",
    "Simple is better than complex.\n",
    "Complex is better than complicated.\n",
    "Flat is better than nested.\n",
    "Sparse is better than dense.\n",
    "Readability counts.\n",
    "Special cases aren't special enough to break the rules.\n",
    "Although practicality beats purity.\n",
    "Errors should never pass silently.\n",
    "Unless explicitly silenced.\n",
    "In the face of ambiguity, refuse the temptation to guess.\n",
    "There should be one-- and preferably only one --obvious way to do it.\n",
    "Although that way may not be obvious at first unless you're Dutch.\n",
    "Now is better than never.\n",
    "Although never is often better than *right* now.\n",
    "If the implementation is hard to explain, it's a bad idea.\n",
    "If the implementation is easy to explain, it may be a good idea.\n",
    "Namespaces are one honking great idea -- let's do more of those!\n",
    "'''"
   ]
  },
  {
   "cell_type": "code",
   "execution_count": 16,
   "metadata": {},
   "outputs": [
    {
     "name": "stdout",
     "output_type": "stream",
     "text": [
      "never.              6\n",
      "Readability         11\n",
      "way                 3\n",
      "enough              6\n",
      "Flat                4\n",
      "refuse              6\n",
      "you're              6\n",
      "Sparse              6\n",
      "silenced.           9\n",
      "*right*             7\n",
      "Zen                 3\n",
      "unless              6\n",
      "those!              6\n",
      "obvious             7\n",
      "the                 3\n",
      "easy                4\n",
      "temptation          10\n",
      "good                4\n",
      "often               5\n",
      "--obvious           9\n",
      "pass                4\n",
      "implicit.           9\n",
      "than                4\n",
      "at                  2\n",
      "now.                4\n",
      "great               5\n",
      "is                  2\n",
      "preferably          10\n",
      "may                 3\n",
      "complicated.        12\n",
      "Unless              6\n",
      "Python,             7\n",
      "explicitly          10\n",
      "it                  2\n",
      "rules.              6\n",
      "explain,            8\n",
      "If                  2\n",
      "ambiguity,          10\n",
      "Dutch.              6\n",
      "face                4\n",
      "idea                4\n",
      "practicality        12\n",
      "Beautiful           9\n",
      "idea.               5\n",
      "hard                4\n",
      "by                  2\n",
      "do                  2\n",
      "Tim                 3\n",
      "In                  2\n",
      "honking             7\n",
      "let's               5\n",
      "one--               5\n",
      "silently.           9\n",
      "dense.              6\n",
      "Complex             7\n",
      "not                 3\n",
      "of                  2\n",
      "it's                4\n",
      "special             7\n",
      "Peters              6\n",
      "Special             7\n",
      "nested.             7\n",
      "break               5\n",
      "one                 3\n",
      "better              6\n",
      "complex.            8\n",
      "Errors              6\n",
      "guess.              6\n",
      "aren't              6\n",
      "Now                 3\n",
      "There               5\n",
      "never               5\n",
      "Explicit            8\n",
      "it.                 3\n",
      "are                 3\n",
      "more                4\n",
      "--                  2\n",
      "beats               5\n",
      "Simple              6\n",
      "purity.             7\n",
      "cases               5\n",
      "first               5\n",
      "to                  2\n",
      "and                 3\n",
      "counts.             7\n",
      "implementation      14\n",
      "should              6\n",
      "Namespaces          10\n",
      "ugly.               5\n",
      "be                  2\n",
      "The                 3\n",
      "Although            8\n",
      "a                   1\n",
      "bad                 3\n",
      "that                4\n",
      "only                4\n"
     ]
    }
   ],
   "source": [
    "for word in set(content.split()):\n",
    "    print(f'{word:20}{len(word)}')"
   ]
  }
 ],
 "metadata": {
  "kernelspec": {
   "display_name": "base",
   "language": "python",
   "name": "python3"
  },
  "language_info": {
   "codemirror_mode": {
    "name": "ipython",
    "version": 3
   },
   "file_extension": ".py",
   "mimetype": "text/x-python",
   "name": "python",
   "nbconvert_exporter": "python",
   "pygments_lexer": "ipython3",
   "version": "3.10.10"
  },
  "orig_nbformat": 4
 },
 "nbformat": 4,
 "nbformat_minor": 2
}
