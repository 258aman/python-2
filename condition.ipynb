{
 "cells": [
  {
   "cell_type": "code",
   "execution_count": 2,
   "metadata": {},
   "outputs": [
    {
     "name": "stdout",
     "output_type": "stream",
     "text": [
      "siddhant\n"
     ]
    }
   ],
   "source": [
    "name='siddhant'\n",
    "print(name)"
   ]
  },
  {
   "cell_type": "code",
   "execution_count": 8,
   "metadata": {},
   "outputs": [
    {
     "name": "stdout",
     "output_type": "stream",
     "text": [
      "Welcome mister name letter\n"
     ]
    }
   ],
   "source": [
    "y=input('Enter name:')\n",
    "if len(y)==4:\n",
    "    print('Welcome mister name letter')"
   ]
  },
  {
   "cell_type": "code",
   "execution_count": 9,
   "metadata": {},
   "outputs": [
    {
     "name": "stdout",
     "output_type": "stream",
     "text": [
      "even number\n"
     ]
    }
   ],
   "source": [
    "num=int(input('enter number'))\n",
    "if num%2==0:\n",
    "    print('even number')\n",
    "else:\n",
    "    print('odd number')"
   ]
  },
  {
   "cell_type": "code",
   "execution_count": 11,
   "metadata": {},
   "outputs": [
    {
     "name": "stdout",
     "output_type": "stream",
     "text": [
      "b is greater\n"
     ]
    }
   ],
   "source": [
    "a,b,c=10,20,14\n",
    "if a>b and a>c:\n",
    "    print('a is greater')\n",
    "elif b>a and b>c:\n",
    "    print('b is greater')\n",
    "else:\n",
    "    print('c is greater')"
   ]
  },
  {
   "cell_type": "code",
   "execution_count": 12,
   "metadata": {},
   "outputs": [
    {
     "name": "stdout",
     "output_type": "stream",
     "text": [
      "you chose weekend\n"
     ]
    }
   ],
   "source": [
    "# match case\n",
    "day = input('enter day:')\n",
    "match(day):\n",
    "    case 'monday': print('working day')\n",
    "    case 'tuesday': print('light working day')\n",
    "    case 'wednesday'| 'thursday': print('holiday k karib')\n",
    "    case 'friday': print('light working day')\n",
    "    case 'saturday'| 'sunday': print('you chose weekend')\n",
    "    case _: print('you chose wrong day')"
   ]
  },
  {
   "cell_type": "code",
   "execution_count": 15,
   "metadata": {},
   "outputs": [
    {
     "name": "stdout",
     "output_type": "stream",
     "text": [
      "166.32\n"
     ]
    }
   ],
   "source": [
    "principal=int(input('enter the principal'))\n",
    "rate=int(input('enter the value of rate'))\n",
    "time=int(input('enter the value of time'))\n",
    "si=principal*rate*time/100\n",
    "\n",
    "print(si)"
   ]
  },
  {
   "cell_type": "code",
   "execution_count": null,
   "metadata": {},
   "outputs": [],
   "source": []
  }
 ],
 "metadata": {
  "kernelspec": {
   "display_name": "base",
   "language": "python",
   "name": "python3"
  },
  "language_info": {
   "codemirror_mode": {
    "name": "ipython",
    "version": 3
   },
   "file_extension": ".py",
   "mimetype": "text/x-python",
   "name": "python",
   "nbconvert_exporter": "python",
   "pygments_lexer": "ipython3",
   "version": "3.10.9"
  },
  "orig_nbformat": 4
 },
 "nbformat": 4,
 "nbformat_minor": 2
}
