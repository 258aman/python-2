{
 "cells": [
  {
   "cell_type": "code",
   "execution_count": 1,
   "metadata": {},
   "outputs": [
    {
     "name": "stdout",
     "output_type": "stream",
     "text": [
      "10 <class 'int'>\n",
      "10.5 <class 'float'>\n",
      "hello <class 'str'>\n",
      "True <class 'bool'>\n",
      "None <class 'NoneType'>\n",
      "[1, 2, 3] <class 'list'>\n",
      "(1, 2, 3, 4, 5) <class 'tuple'>\n",
      "{1, 2, 3} <class 'set'>\n",
      "{'a': 1, 'b': 2} <class 'dict'>\n"
     ]
    }
   ],
   "source": [
    "a=10 #int\n",
    "print(a, type(a))\n",
    "a=10.5 #float\n",
    "print(a, type(a))\n",
    "a='hello' #str\n",
    "print(a, type(a))\n",
    "a=True #bool\n",
    "print(a, type(a))\n",
    "a=None #None Type\n",
    "print(a, type(a))\n",
    "a=[1,2,3] #list\n",
    "print(a, type(a))\n",
    "a=(1,2,3,4,5) #tuple\n",
    "print(a, type(a))\n",
    "a={1,2,3} #set\n",
    "print(a, type(a))\n",
    "a={'a':1, 'b':2} #dict\n",
    "print(a, type(a))"
   ]
  },
  {
   "cell_type": "code",
   "execution_count": 4,
   "metadata": {},
   "outputs": [
    {
     "name": "stdout",
     "output_type": "stream",
     "text": [
      "\n",
      "5 15\n",
      "5 15 20\n",
      "5\n",
      "15\n",
      "20\n"
     ]
    }
   ],
   "source": [
    "print()\n",
    "a = 5\n",
    "b = 15\n",
    "print(a,b)\n",
    "print(a,b, a+b)\n",
    "print(a, b, a+b,sep='\\n')"
   ]
  },
  {
   "cell_type": "code",
   "execution_count": 7,
   "metadata": {},
   "outputs": [
    {
     "name": "stdout",
     "output_type": "stream",
     "text": [
      "5 , 15\n",
      "20\n"
     ]
    }
   ],
   "source": [
    "c=a+b\n",
    "print(a, end=' , ')\n",
    "print(b)\n",
    "print(c)"
   ]
  },
  {
   "cell_type": "code",
   "execution_count": 10,
   "metadata": {},
   "outputs": [
    {
     "name": "stdout",
     "output_type": "stream",
     "text": [
      "5\n"
     ]
    }
   ],
   "source": [
    "# del print is used for correct the function\n",
    "\n",
    "print=77\n",
    "del print\n",
    "print(a)\n",
    "\n"
   ]
  },
  {
   "cell_type": "code",
   "execution_count": 12,
   "metadata": {},
   "outputs": [
    {
     "name": "stdout",
     "output_type": "stream",
     "text": [
      "my name is siddhant, i am 23 year old, i lived in lucknow\n"
     ]
    }
   ],
   "source": [
    "name='siddhant'\n",
    "age=23\n",
    "city='lucknow'\n",
    "print(f'my name is {name}, i am {age} year old, i lived in {city}')"
   ]
  },
  {
   "cell_type": "code",
   "execution_count": 13,
   "metadata": {},
   "outputs": [
    {
     "name": "stdout",
     "output_type": "stream",
     "text": [
      "10/3 = 3.33\n",
      "10 / 3 = 3.33\n"
     ]
    }
   ],
   "source": [
    "x = 10\n",
    "y = 3\n",
    "z= x/y\n",
    "print(f'{x}/{y} = {z:.2f}')\n",
    "print(x,'/',y, '=', round(z,2))"
   ]
  },
  {
   "cell_type": "code",
   "execution_count": 17,
   "metadata": {},
   "outputs": [
    {
     "name": "stdout",
     "output_type": "stream",
     "text": [
      "sara       22\n",
      "clerk      21\n",
      "ninja      24\n"
     ]
    }
   ],
   "source": [
    "n1='sara'\n",
    "n2='clerk'\n",
    "n3='ninja'\n",
    "a1, a2, a3 = 22, 21, 24\n",
    "print(f'{n1:10} {a1}')\n",
    "print(f'{n2:10} {a2}')\n",
    "print(f'{n3:10} {a3}')"
   ]
  }
 ],
 "metadata": {
  "kernelspec": {
   "display_name": "Python 3",
   "language": "python",
   "name": "python3"
  },
  "language_info": {
   "codemirror_mode": {
    "name": "ipython",
    "version": 3
   },
   "file_extension": ".py",
   "mimetype": "text/x-python",
   "name": "python",
   "nbconvert_exporter": "python",
   "pygments_lexer": "ipython3",
   "version": "3.10.9"
  },
  "orig_nbformat": 4
 },
 "nbformat": 4,
 "nbformat_minor": 2
}
